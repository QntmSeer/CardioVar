{
  "nbformat": 4,
  "nbformat_minor": 0,
  "metadata": {
    "colab": {
      "provenance": [],
      "authorship_tag": "ABX9TyNTnOHgQNi060UphvNkeUgF",
      "include_colab_link": true
    },
    "kernelspec": {
      "name": "python3",
      "display_name": "Python 3"
    },
    "language_info": {
      "name": "python"
    }
  },
  "cells": [
    {
      "cell_type": "markdown",
      "metadata": {
        "id": "view-in-github",
        "colab_type": "text"
      },
      "source": [
        "<a href=\"https://colab.research.google.com/github/QntmSeer/CardioVar/blob/main/app.ipynb\" target=\"_parent\"><img src=\"https://colab.research.google.com/assets/colab-badge.svg\" alt=\"Open In Colab\"/></a>"
      ]
    },
    {
      "cell_type": "code",
      "execution_count": null,
      "metadata": {
        "id": "27ucXoPmFYsK"
      },
      "outputs": [],
      "source": [
        "# # CardioVar: RNA-seq–based Regulatory Variant Analysis for CVD\n",
        "\n",
        "This notebook demonstrates how to query AlphaGenome for predicted RNA-seq impact of a variant in heart tissue, visualize differential expression, identify top-shift regions, and annotate with genes.\n",
        "\n",
        "# Step 0: Fix torch version to avoid Colab conflict\n",
        "!pip uninstall -y torch\n",
        "!pip install torch==2.0.1\n",
        "\n",
        "# Step 1: Install dependencies\n",
        "!pip install alphagenome numpy==1.24.4 matplotlib seaborn pandas pyensembl\n",
        "import os\n",
        "os.kill(os.getpid(), 9)  # restart runtime after installation\n",
        "\n",
        "# Step 2: Imports and setup\n",
        "from alphagenome.data import genome\n",
        "from alphagenome.models import dna_client\n",
        "import numpy as np\n",
        "import pandas as pd\n",
        "import seaborn as sns\n",
        "import matplotlib.pyplot as plt\n",
        "from pyensembl import EnsemblRelease\n",
        "\n",
        "# Step 3: AlphaGenome API + prediction\n",
        "API_KEY = 'YOUR_API_KEY'\n",
        "model = dna_client.create(API_KEY)\n",
        "\n",
        "chrom = 'chr22'\n",
        "position = 36191400\n",
        "ref = 'A'\n",
        "alt = 'C'\n",
        "interval = genome.Interval(chromosome=chrom, start=35677410, end=36725986)\n",
        "variant = genome.Variant(chromosome=chrom, position=position, reference_bases=ref, alternate_bases=alt)\n",
        "\n",
        "outputs = model.predict_variant(\n",
        "    interval=interval,\n",
        "    variant=variant,\n",
        "    ontology_terms=['UBERON:0000948'],\n",
        "    requested_outputs=[dna_client.OutputType.RNA_SEQ]\n",
        ")\n",
        "print(outputs)\n",
        "\n",
        "# Step 4: Compute and visualize Δ RNA-seq\n",
        "ref_vals = outputs.reference.rna_seq.values\n",
        "alt_vals = outputs.alternate.rna_seq.values\n",
        "diff_vals = alt_vals - ref_vals\n",
        "meta = outputs.reference.rna_seq.metadata\n",
        "positions = np.arange(ref_vals.shape[0])\n",
        "\n",
        "sns.set_style(\"white\")\n",
        "plt.figure(figsize=(12,5))\n",
        "sns.lineplot(x=positions, y=diff_vals.mean(axis=1),\n",
        "             errorbar=None, color=\"steelblue\")\n",
        "plt.axhline(0, color='gray', linestyle='--', linewidth=0.6)\n",
        "plt.title(\"Average Δ RNA‑seq (Alt – Ref) across assays\")\n",
        "plt.xlabel(\"Relative Position\")\n",
        "plt.ylabel(\"Δ RNA‑seq\")\n",
        "sns.despine()\n",
        "plt.show()\n",
        "\n",
        "# Step 5: Identify top-shift positions\n",
        "df = pd.DataFrame(diff_vals, columns=meta[\"Assay title\"].tolist())\n",
        "df[\"Abs Delta\"] = df.abs().mean(axis=1)\n",
        "pos_rank = df[\"Abs Delta\"].nlargest(10).reset_index().rename(columns={\"index\":\"Position\"})\n",
        "pos_rank[\"Genomic Position\"] = pos_rank[\"Position\"] + interval.start\n",
        "pos_rank\n",
        "\n",
        "# Step 6: Annotate genes using pyensembl\n",
        "data = EnsemblRelease(105)\n",
        "data.download(); data.index()\n",
        "\n",
        "for pos in pos_rank[\"Genomic Position\"]:\n",
        "    genes = data.genes_at_locus(contig=chrom.replace('chr',''), position=int(pos))\n",
        "    print(f\"[chr22:{pos}] ->\", [g.gene_name for g in genes])\n",
        "\n",
        "# Step 7: Summary report\n",
        "print(\"Variant:\", chrom, position, ref, \"→\", alt)\n",
        "print(\"\\nTop Regions and Gene Hits:\")\n",
        "print(pos_rank[[\"Genomic Position\",\"Abs Delta\"]])"
      ]
    }
  ]
}